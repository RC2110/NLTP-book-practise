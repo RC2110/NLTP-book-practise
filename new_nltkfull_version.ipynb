{
 "cells": [
  {
   "cell_type": "code",
   "execution_count": 1,
   "id": "bb57fd35-3273-412c-bce6-c87f9ab554e0",
   "metadata": {},
   "outputs": [],
   "source": [
    "import re"
   ]
  },
  {
   "cell_type": "code",
   "execution_count": 2,
   "id": "5be94e7a-d85b-47c7-b244-b6b782f69509",
   "metadata": {},
   "outputs": [],
   "source": [
    "with open(\"miracle_in_the_andes.txt\", 'r', encoding='UTF-8') as file:\n",
    "    book= file.read()"
   ]
  },
  {
   "cell_type": "code",
   "execution_count": 3,
   "id": "9179f2f9-c2a4-491d-b44f-31416dc67d4e",
   "metadata": {},
   "outputs": [
    {
     "data": {
      "text/plain": [
       "'Chapter 1\\n\\nBefore\\n\\n\\nIT WAS FRIDAY, the thirteenth of October. We joked about that—flying over the Andes on such an unlucky day, but young men make those kinds of jokes so easily. Our flight had originated one day earlier in Montevideo, my hometown, its destination Santiago, Chile. It was a chartered flight on a Fairchild twin-engine turboprop carrying my rugby team—the Old Christians Rugby Club—to play an exhibition match against a top Chilean squad. There were forty-five people aboard, including four crew members—pilot, copilot, mechanic, and steward. Most of the passengers were my teammates, but we were also accompanied by friends, family members, and other supporters of the team, including my mother, Eugenia, and my younger sister, Susy, who were sitting across the aisle and one row in front of me. Our original itinerary was to fly nonstop to Santiago, a trip of about three and a half hours. But after just a few hours of flying, reports of bad weather in the mountains ahead forced the Fairchild’s pilot, Julio Ferradas, to put the plane down in the old Spanish colonial town of Mendoza, which lies just east of the Andean foothills.\\n\\nWe landed in Mendoza at lunchtime with hopes that we would be back in the air in a few hours. But the weather reports were not encouraging, and it was soon clear that we would have to stay the night. None of us liked the idea of losing a day from our trip, but Mendoza was a charming place, so we decided to make the best of our time there. Some of'"
      ]
     },
     "execution_count": 3,
     "metadata": {},
     "output_type": "execute_result"
    }
   ],
   "source": [
    "book[0:1500]"
   ]
  },
  {
   "cell_type": "code",
   "execution_count": 4,
   "id": "efd698c2-fc7e-444e-8b54-049028a7ff79",
   "metadata": {},
   "outputs": [
    {
     "data": {
      "text/plain": [
       "67"
      ]
     },
     "execution_count": 4,
     "metadata": {},
     "output_type": "execute_result"
    }
   ],
   "source": [
    "pattern = re.compile(\"[A-Z]{1}[^.]*[^a-zA-Z]+love[^a-zA-Z][^.]*.\")\n",
    "findings = re.findall(pattern, book)\n",
    "len(findings)"
   ]
  },
  {
   "cell_type": "code",
   "execution_count": 5,
   "id": "d92ec63f-2382-455d-a9f9-13edb71402b8",
   "metadata": {},
   "outputs": [
    {
     "data": {
      "text/plain": [
       "60"
      ]
     },
     "execution_count": 5,
     "metadata": {},
     "output_type": "execute_result"
    }
   ],
   "source": [
    "pattern= re.compile(\"[^\\n]+love[^\\n]+\")\n",
    "findings = re.findall(pattern, book)\n",
    "len(findings)"
   ]
  },
  {
   "cell_type": "code",
   "execution_count": 6,
   "id": "788306f2-6949-4dd0-ad12-7f63bf315cae",
   "metadata": {},
   "outputs": [
    {
     "data": {
      "text/plain": [
       "['Before',\n",
       " 'Everything Precious',\n",
       " 'A Promise',\n",
       " 'Breathe Once More',\n",
       " 'Abandoned',\n",
       " 'Tomb',\n",
       " 'East',\n",
       " 'The Opposite of Death',\n",
       " 'I See a Man',\n",
       " 'After']"
      ]
     },
     "execution_count": 6,
     "metadata": {},
     "output_type": "execute_result"
    }
   ],
   "source": [
    "# pattern=re.compile(\"[\\n]+([a-zA-Z ,]+)[\\n]+\")\n",
    "# findings = re.findall(pattern, book)\n",
    "# findings\n",
    "pattern=re.compile(\"[\\n]+[a-zA-Z ,]+[\\n]+\")\n",
    "findings = re.findall(pattern, book)\n",
    "ls=[i.strip('\\n') for i in findings]\n",
    "ls"
   ]
  },
  {
   "cell_type": "code",
   "execution_count": 7,
   "id": "2232b76e-9578-4836-b49f-a49db2a061d8",
   "metadata": {},
   "outputs": [
    {
     "data": {
      "text/plain": [
       "'Chapter 1\\n\\nBefore\\n\\n\\nIT WAS FRIDAY, the thirteenth of October. We joked about that—flying over the Andes on such an unlucky day, but young men make those kinds of jokes so easily. Our flight had originated one day earlier in Montevideo, my hometown, its destination Santiago, Chile. It was a chartered flight on a Fairchild twin-engine turboprop carrying my rugby team—the Old Christians Rugby Club—to play an exhibition match against a top Chilean squad. There were forty-five people aboard, including four crew members—pilot, copilot, mechanic, and steward. Most of the passengers were my teammates, but we were also accompanied by friends, family members, and other supporters of the team, including my mother, Eugenia, and my younger sister, Susy, who were sitting across the aisle and one row in front of me. Our original itinerary was to fly nonstop to Santiago, a trip of about three and a half hours. But after just a few hours of flying, reports of bad weather in the mountains ahead forced the Fairchild’s pilot, Julio Ferradas, to put the plane down in the old Spanish colonial town of Mendoza, which lies just east of the Andean foothills.\\n\\nWe landed in Mendoza at lunchtime with hopes that we would be back in the air in a few hours. But the weather reports were not encouraging, and it was soon clear that we would have to stay the night. None of us liked the idea of losing a day from our trip, but Mendoza was a charming place, so we decided to make the best of our time there. Some of'"
      ]
     },
     "execution_count": 7,
     "metadata": {},
     "output_type": "execute_result"
    }
   ],
   "source": [
    "book[0:1500]"
   ]
  },
  {
   "cell_type": "code",
   "execution_count": 8,
   "id": "0cf05bee-e73e-4be5-9574-5eff58db2d84",
   "metadata": {},
   "outputs": [
    {
     "data": {
      "text/plain": [
       "['chapter',\n",
       " 'before',\n",
       " 'it',\n",
       " 'was',\n",
       " 'friday',\n",
       " 'the',\n",
       " 'thirteenth',\n",
       " 'of',\n",
       " 'october',\n",
       " 'we',\n",
       " 'joked',\n",
       " 'about',\n",
       " 'that',\n",
       " 'flying',\n",
       " 'over',\n",
       " 'the',\n",
       " 'andes',\n",
       " 'on',\n",
       " 'such',\n",
       " 'an',\n",
       " 'unlucky',\n",
       " 'day',\n",
       " 'but',\n",
       " 'young',\n",
       " 'men',\n",
       " 'make',\n",
       " 'those',\n",
       " 'kinds',\n",
       " 'of',\n",
       " 'jokes',\n",
       " 'so',\n",
       " 'easily',\n",
       " 'our',\n",
       " 'flight',\n",
       " 'had',\n",
       " 'originated',\n",
       " 'one',\n",
       " 'day',\n",
       " 'earlier',\n",
       " 'in',\n",
       " 'montevideo',\n",
       " 'my',\n",
       " 'hometown',\n",
       " 'its',\n",
       " 'destination',\n",
       " 'santiago',\n",
       " 'chile',\n",
       " 'it',\n",
       " 'was',\n",
       " 'a']"
      ]
     },
     "execution_count": 8,
     "metadata": {},
     "output_type": "execute_result"
    }
   ],
   "source": [
    "pattern= re.compile(\"[a-zA-Z]+\")\n",
    "findings = re.findall(pattern, book.lower())\n",
    "findings[0:50]"
   ]
  },
  {
   "cell_type": "code",
   "execution_count": 9,
   "id": "bd4b1360-79a0-4f34-a871-5e261c83caff",
   "metadata": {},
   "outputs": [],
   "source": [
    "dict={}\n",
    "for i in findings:\n",
    "    if i in dict.keys():\n",
    "        dict[i]=dict[i]+1\n",
    "    else:\n",
    "        dict[i]=1"
   ]
  },
  {
   "cell_type": "code",
   "execution_count": 10,
   "id": "87fe0af5-2f81-46bf-b1cb-e624d760fc0c",
   "metadata": {},
   "outputs": [],
   "source": [
    "def count_word(word):\n",
    "    return dict[word]"
   ]
  },
  {
   "cell_type": "code",
   "execution_count": 11,
   "id": "70a4679f-2bd6-431d-b21e-62d54e7e8a8c",
   "metadata": {},
   "outputs": [
    {
     "data": {
      "text/plain": [
       "5346"
      ]
     },
     "execution_count": 11,
     "metadata": {},
     "output_type": "execute_result"
    }
   ],
   "source": [
    "count_word(\"the\")"
   ]
  },
  {
   "cell_type": "code",
   "execution_count": 12,
   "id": "9e0f8e52-35c7-44e7-8d29-5157e56db0ed",
   "metadata": {},
   "outputs": [
    {
     "data": {
      "text/plain": [
       "16"
      ]
     },
     "execution_count": 12,
     "metadata": {},
     "output_type": "execute_result"
    }
   ],
   "source": [
    "count_word(\"miracle\")"
   ]
  },
  {
   "cell_type": "code",
   "execution_count": 13,
   "id": "e0982d09-beb5-4d8e-bb83-1fc307583bfa",
   "metadata": {},
   "outputs": [
    {
     "data": {
      "text/plain": [
       "'3.11.3'"
      ]
     },
     "execution_count": 13,
     "metadata": {},
     "output_type": "execute_result"
    }
   ],
   "source": [
    "from platform import python_version\n",
    "python_version()"
   ]
  },
  {
   "cell_type": "code",
   "execution_count": 14,
   "id": "87e5e81c-7e13-4233-bded-f1c36e715c88",
   "metadata": {
    "scrolled": true
   },
   "outputs": [
    {
     "name": "stdout",
     "output_type": "stream",
     "text": [
      "Requirement already satisfied: nltk in c:\\users\\rajaa\\appdata\\local\\programs\\python\\python311\\lib\\site-packages (3.8.1)\n",
      "Requirement already satisfied: click in c:\\users\\rajaa\\appdata\\local\\programs\\python\\python311\\lib\\site-packages (from nltk) (8.1.7)\n",
      "Requirement already satisfied: joblib in c:\\users\\rajaa\\appdata\\local\\programs\\python\\python311\\lib\\site-packages (from nltk) (1.3.2)\n",
      "Requirement already satisfied: regex>=2021.8.3 in c:\\users\\rajaa\\appdata\\local\\programs\\python\\python311\\lib\\site-packages (from nltk) (2023.8.8)\n",
      "Requirement already satisfied: tqdm in c:\\users\\rajaa\\appdata\\local\\programs\\python\\python311\\lib\\site-packages (from nltk) (4.66.1)\n",
      "Requirement already satisfied: colorama in c:\\users\\rajaa\\appdata\\local\\programs\\python\\python311\\lib\\site-packages (from click->nltk) (0.4.6)\n",
      "Note: you may need to restart the kernel to use updated packages.\n"
     ]
    }
   ],
   "source": [
    "pip install nltk"
   ]
  },
  {
   "cell_type": "code",
   "execution_count": 16,
   "id": "981844f6-c2ff-4184-9d02-1b62eb7c4d65",
   "metadata": {
    "scrolled": true
   },
   "outputs": [
    {
     "name": "stderr",
     "output_type": "stream",
     "text": [
      "[nltk_data] Downloading package stopwords to\n",
      "[nltk_data]     C:\\Users\\rajaa\\AppData\\Roaming\\nltk_data...\n",
      "[nltk_data]   Unzipping corpora\\stopwords.zip.\n"
     ]
    },
    {
     "data": {
      "text/plain": [
       "True"
      ]
     },
     "execution_count": 16,
     "metadata": {},
     "output_type": "execute_result"
    }
   ],
   "source": [
    "# from nltk.corpus import stopwords\n",
    "import nltk\n",
    "nltk.download(\"stopwords\")\n",
    "# english_stopwords = stopwords.words('english')"
   ]
  },
  {
   "cell_type": "code",
   "execution_count": 17,
   "id": "a716246e-7f5c-4fb0-9916-3775ad1cdb25",
   "metadata": {},
   "outputs": [],
   "source": [
    "from nltk.corpus import stopwords\n",
    "english_stopwords = stopwords.words('english')"
   ]
  },
  {
   "cell_type": "code",
   "execution_count": 20,
   "id": "5aa7e050-fbd8-470f-a896-e8fc63f8250a",
   "metadata": {},
   "outputs": [
    {
     "data": {
      "text/plain": [
       "['chapter',\n",
       " 'before',\n",
       " 'it',\n",
       " 'was',\n",
       " 'friday',\n",
       " 'the',\n",
       " 'thirteenth',\n",
       " 'of',\n",
       " 'october',\n",
       " 'we']"
      ]
     },
     "execution_count": 20,
     "metadata": {},
     "output_type": "execute_result"
    }
   ],
   "source": [
    "findings[0:10]"
   ]
  },
  {
   "cell_type": "code",
   "execution_count": 21,
   "id": "689edc68-2228-4840-8023-a5ce0b55711c",
   "metadata": {},
   "outputs": [],
   "source": [
    "filtered_list=[]\n",
    "for i in findings:\n",
    "    if i not in english_stopwords:\n",
    "        filtered_list.append(i)\n",
    "        \n",
    "        "
   ]
  },
  {
   "cell_type": "code",
   "execution_count": 24,
   "id": "7b242a21-ed5f-4fa4-86c4-9adaf074a35d",
   "metadata": {},
   "outputs": [
    {
     "data": {
      "text/plain": [
       "['chapter', 'friday', 'thirteenth', 'october', 'joked']"
      ]
     },
     "execution_count": 24,
     "metadata": {},
     "output_type": "execute_result"
    }
   ],
   "source": [
    "filtered_list[0:5]"
   ]
  },
  {
   "cell_type": "markdown",
   "id": "f05090ff-53ec-4734-ae71-1d1530e66560",
   "metadata": {},
   "source": [
    "## Sentiment Analysis"
   ]
  },
  {
   "cell_type": "code",
   "execution_count": 28,
   "id": "b2d65d2f-9353-4edb-a822-a5ef541664a4",
   "metadata": {},
   "outputs": [],
   "source": [
    "from nltk.sentiment import SentimentIntensityAnalyzer\n"
   ]
  },
  {
   "cell_type": "code",
   "execution_count": 44,
   "id": "c9645798-3138-40da-ba93-e6a10cfe1bb2",
   "metadata": {},
   "outputs": [
    {
     "name": "stderr",
     "output_type": "stream",
     "text": [
      "[nltk_data] Downloading package vader_lexicon to\n",
      "[nltk_data]     C:\\Users\\rajaa\\AppData\\Roaming\\nltk_data...\n"
     ]
    },
    {
     "data": {
      "text/plain": [
       "True"
      ]
     },
     "execution_count": 44,
     "metadata": {},
     "output_type": "execute_result"
    }
   ],
   "source": [
    "import nltk\n",
    "nltk.downloader.download('vader_lexicon')"
   ]
  },
  {
   "cell_type": "code",
   "execution_count": 45,
   "id": "ab0c7531-14c1-4e96-86b7-e37eecc963ec",
   "metadata": {},
   "outputs": [],
   "source": [
    "sentiment = SentimentIntensityAnalyzer()"
   ]
  },
  {
   "cell_type": "code",
   "execution_count": 77,
   "id": "b88b7230-6351-405d-9968-d0efc8b6c196",
   "metadata": {
    "scrolled": true
   },
   "outputs": [
    {
     "name": "stdout",
     "output_type": "stream",
     "text": [
      "This is a positive sentence\n"
     ]
    }
   ],
   "source": [
    "score=sentiment.polarity_scores(\"I fixed the tyre. good\")\n",
    "if score['pos'] > score['neg']:\n",
    "    print(\"This is a positive sentence\")\n",
    "elif score['neg'] > score['pos']:\n",
    "    print(\"This is a negative sentence\")"
   ]
  },
  {
   "cell_type": "code",
   "execution_count": 58,
   "id": "034d8da1-925d-4606-9a85-28075d655213",
   "metadata": {},
   "outputs": [],
   "source": [
    "pattern = re.compile(\"Chapter [0-9]+\")\n",
    "result = re.split(pattern, book)\n",
    "# result[3]"
   ]
  },
  {
   "cell_type": "code",
   "execution_count": 67,
   "id": "34e9d843-f57f-4db8-a7b1-c74f10688de4",
   "metadata": {},
   "outputs": [
    {
     "name": "stdout",
     "output_type": "stream",
     "text": [
      "1 {'neg': 0.061, 'neu': 0.779, 'pos': 0.16, 'compound': 1.0}\n",
      "2 {'neg': 0.12, 'neu': 0.726, 'pos': 0.154, 'compound': 0.9991}\n",
      "3 {'neg': 0.145, 'neu': 0.751, 'pos': 0.105, 'compound': -0.9999}\n",
      "4 {'neg': 0.141, 'neu': 0.721, 'pos': 0.138, 'compound': -0.9963}\n",
      "5 {'neg': 0.118, 'neu': 0.742, 'pos': 0.141, 'compound': 0.9997}\n",
      "6 {'neg': 0.124, 'neu': 0.761, 'pos': 0.115, 'compound': -0.9979}\n",
      "7 {'neg': 0.136, 'neu': 0.761, 'pos': 0.103, 'compound': -0.9999}\n",
      "8 {'neg': 0.12, 'neu': 0.786, 'pos': 0.094, 'compound': -0.9998}\n",
      "9 {'neg': 0.097, 'neu': 0.824, 'pos': 0.079, 'compound': -0.9996}\n",
      "10 {'neg': 0.086, 'neu': 0.733, 'pos': 0.181, 'compound': 1.0}\n"
     ]
    }
   ],
   "source": [
    "for num, i in enumerate(result[1:]):\n",
    "    print(num+1, sentiment.polarity_scores(i))"
   ]
  },
  {
   "cell_type": "code",
   "execution_count": 68,
   "id": "1ec174ac-58af-4f1a-a297-8f2a6ce55a4e",
   "metadata": {},
   "outputs": [
    {
     "data": {
      "text/plain": [
       "{'neg': 0.116, 'neu': 0.76, 'pos': 0.125, 'compound': 1.0}"
      ]
     },
     "execution_count": 68,
     "metadata": {},
     "output_type": "execute_result"
    }
   ],
   "source": [
    "sentiment.polarity_scores(book)"
   ]
  },
  {
   "cell_type": "code",
   "execution_count": null,
   "id": "a5470ff5-f3bb-491a-8dc9-914b3165f6fe",
   "metadata": {},
   "outputs": [],
   "source": []
  },
  {
   "cell_type": "code",
   "execution_count": null,
   "id": "6014fbce-c30e-4482-8a1b-0e47a7cc81b4",
   "metadata": {},
   "outputs": [],
   "source": []
  }
 ],
 "metadata": {
  "kernelspec": {
   "display_name": "Python 3 (ipykernel)",
   "language": "python",
   "name": "python3"
  },
  "language_info": {
   "codemirror_mode": {
    "name": "ipython",
    "version": 3
   },
   "file_extension": ".py",
   "mimetype": "text/x-python",
   "name": "python",
   "nbconvert_exporter": "python",
   "pygments_lexer": "ipython3",
   "version": "3.11.3"
  }
 },
 "nbformat": 4,
 "nbformat_minor": 5
}
